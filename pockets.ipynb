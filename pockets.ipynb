{
 "cells": [
  {
   "cell_type": "code",
   "execution_count": 2,
   "metadata": {},
   "outputs": [],
   "source": [
    "import numpy as np\n",
    "import pandas as pd\n",
    "import matplotlib.pyplot as plt\n",
    "import seaborn as sns\n",
    "%matplotlib inline"
   ]
  },
  {
   "cell_type": "code",
   "execution_count": 3,
   "metadata": {},
   "outputs": [],
   "source": [
    "pockets=pd.read_csv('measurements.csv')"
   ]
  },
  {
   "cell_type": "code",
   "execution_count": 4,
   "metadata": {},
   "outputs": [
    {
     "data": {
      "text/html": [
       "<div>\n",
       "<style scoped>\n",
       "    .dataframe tbody tr th:only-of-type {\n",
       "        vertical-align: middle;\n",
       "    }\n",
       "\n",
       "    .dataframe tbody tr th {\n",
       "        vertical-align: top;\n",
       "    }\n",
       "\n",
       "    .dataframe thead th {\n",
       "        text-align: right;\n",
       "    }\n",
       "</style>\n",
       "<table border=\"1\" class=\"dataframe\">\n",
       "  <thead>\n",
       "    <tr style=\"text-align: right;\">\n",
       "      <th></th>\n",
       "      <th>brand</th>\n",
       "      <th>style</th>\n",
       "      <th>menWomen</th>\n",
       "      <th>name</th>\n",
       "      <th>fabric</th>\n",
       "      <th>price</th>\n",
       "      <th>maxHeightFront</th>\n",
       "      <th>minHeightFront</th>\n",
       "      <th>rivetHeightFront</th>\n",
       "      <th>maxWidthFront</th>\n",
       "      <th>minWidthFront</th>\n",
       "      <th>maxHeightBack</th>\n",
       "      <th>minHeightBack</th>\n",
       "      <th>maxWidthBack</th>\n",
       "      <th>minWidthBack</th>\n",
       "      <th>cutout</th>\n",
       "    </tr>\n",
       "  </thead>\n",
       "  <tbody>\n",
       "    <tr>\n",
       "      <th>0</th>\n",
       "      <td>Arizona</td>\n",
       "      <td>skinny</td>\n",
       "      <td>women</td>\n",
       "      <td>Fave Super Skinny</td>\n",
       "      <td>78% cotton, 20% polyester, 2% spandex</td>\n",
       "      <td>42.0</td>\n",
       "      <td>14.5</td>\n",
       "      <td>15.0</td>\n",
       "      <td>6.5</td>\n",
       "      <td>16.5</td>\n",
       "      <td>13.0</td>\n",
       "      <td>15.0</td>\n",
       "      <td>12.2</td>\n",
       "      <td>13.7</td>\n",
       "      <td>12.0</td>\n",
       "      <td>False</td>\n",
       "    </tr>\n",
       "    <tr>\n",
       "      <th>1</th>\n",
       "      <td>Arizona</td>\n",
       "      <td>straight</td>\n",
       "      <td>women</td>\n",
       "      <td>Perfect Boot</td>\n",
       "      <td>78% cotton, 20% polyester, 2% spandex</td>\n",
       "      <td>42.0</td>\n",
       "      <td>14.5</td>\n",
       "      <td>14.0</td>\n",
       "      <td>6.5</td>\n",
       "      <td>16.0</td>\n",
       "      <td>12.5</td>\n",
       "      <td>15.5</td>\n",
       "      <td>12.2</td>\n",
       "      <td>13.0</td>\n",
       "      <td>11.2</td>\n",
       "      <td>False</td>\n",
       "    </tr>\n",
       "    <tr>\n",
       "      <th>2</th>\n",
       "      <td>Ralph Lauren</td>\n",
       "      <td>skinny</td>\n",
       "      <td>women</td>\n",
       "      <td>Modern Skinny Slimming Fit</td>\n",
       "      <td>92% cotton, 7% poly, 1% elastane</td>\n",
       "      <td>89.5</td>\n",
       "      <td>13.0</td>\n",
       "      <td>13.5</td>\n",
       "      <td>6.5</td>\n",
       "      <td>14.5</td>\n",
       "      <td>12.0</td>\n",
       "      <td>15.5</td>\n",
       "      <td>13.0</td>\n",
       "      <td>13.5</td>\n",
       "      <td>12.5</td>\n",
       "      <td>False</td>\n",
       "    </tr>\n",
       "    <tr>\n",
       "      <th>3</th>\n",
       "      <td>Ralph Lauren</td>\n",
       "      <td>straight</td>\n",
       "      <td>women</td>\n",
       "      <td>Premier Straight Slimming Fit</td>\n",
       "      <td>92% cotton, 7% poly, 1% elastane</td>\n",
       "      <td>89.5</td>\n",
       "      <td>13.0</td>\n",
       "      <td>13.5</td>\n",
       "      <td>6.5</td>\n",
       "      <td>14.5</td>\n",
       "      <td>12.0</td>\n",
       "      <td>14.5</td>\n",
       "      <td>13.0</td>\n",
       "      <td>13.0</td>\n",
       "      <td>12.2</td>\n",
       "      <td>False</td>\n",
       "    </tr>\n",
       "    <tr>\n",
       "      <th>4</th>\n",
       "      <td>Uniqlo</td>\n",
       "      <td>skinny</td>\n",
       "      <td>women</td>\n",
       "      <td>Skinny Fit</td>\n",
       "      <td>87% cotton, 9% polyester, 4% spandex</td>\n",
       "      <td>39.9</td>\n",
       "      <td>13.0</td>\n",
       "      <td>13.0</td>\n",
       "      <td>5.5</td>\n",
       "      <td>14.0</td>\n",
       "      <td>11.5</td>\n",
       "      <td>14.0</td>\n",
       "      <td>12.0</td>\n",
       "      <td>14.2</td>\n",
       "      <td>11.7</td>\n",
       "      <td>False</td>\n",
       "    </tr>\n",
       "  </tbody>\n",
       "</table>\n",
       "</div>"
      ],
      "text/plain": [
       "          brand     style menWomen                           name  \\\n",
       "0       Arizona    skinny    women              Fave Super Skinny   \n",
       "1       Arizona  straight    women                   Perfect Boot   \n",
       "2  Ralph Lauren    skinny    women     Modern Skinny Slimming Fit   \n",
       "3  Ralph Lauren  straight    women  Premier Straight Slimming Fit   \n",
       "4        Uniqlo    skinny    women                     Skinny Fit   \n",
       "\n",
       "                                  fabric  price  maxHeightFront  \\\n",
       "0  78% cotton, 20% polyester, 2% spandex   42.0            14.5   \n",
       "1  78% cotton, 20% polyester, 2% spandex   42.0            14.5   \n",
       "2       92% cotton, 7% poly, 1% elastane   89.5            13.0   \n",
       "3       92% cotton, 7% poly, 1% elastane   89.5            13.0   \n",
       "4   87% cotton, 9% polyester, 4% spandex   39.9            13.0   \n",
       "\n",
       "   minHeightFront  rivetHeightFront  maxWidthFront  minWidthFront  \\\n",
       "0            15.0               6.5           16.5           13.0   \n",
       "1            14.0               6.5           16.0           12.5   \n",
       "2            13.5               6.5           14.5           12.0   \n",
       "3            13.5               6.5           14.5           12.0   \n",
       "4            13.0               5.5           14.0           11.5   \n",
       "\n",
       "   maxHeightBack  minHeightBack  maxWidthBack  minWidthBack  cutout  \n",
       "0           15.0           12.2          13.7          12.0   False  \n",
       "1           15.5           12.2          13.0          11.2   False  \n",
       "2           15.5           13.0          13.5          12.5   False  \n",
       "3           14.5           13.0          13.0          12.2   False  \n",
       "4           14.0           12.0          14.2          11.7   False  "
      ]
     },
     "execution_count": 4,
     "metadata": {},
     "output_type": "execute_result"
    }
   ],
   "source": [
    "pockets.head()"
   ]
  },
  {
   "cell_type": "code",
   "execution_count": 5,
   "metadata": {},
   "outputs": [
    {
     "data": {
      "text/html": [
       "<div>\n",
       "<style scoped>\n",
       "    .dataframe tbody tr th:only-of-type {\n",
       "        vertical-align: middle;\n",
       "    }\n",
       "\n",
       "    .dataframe tbody tr th {\n",
       "        vertical-align: top;\n",
       "    }\n",
       "\n",
       "    .dataframe thead th {\n",
       "        text-align: right;\n",
       "    }\n",
       "</style>\n",
       "<table border=\"1\" class=\"dataframe\">\n",
       "  <thead>\n",
       "    <tr style=\"text-align: right;\">\n",
       "      <th></th>\n",
       "      <th>price</th>\n",
       "      <th>maxHeightFront</th>\n",
       "      <th>minHeightFront</th>\n",
       "      <th>rivetHeightFront</th>\n",
       "      <th>maxWidthFront</th>\n",
       "      <th>minWidthFront</th>\n",
       "      <th>maxHeightBack</th>\n",
       "      <th>minHeightBack</th>\n",
       "      <th>maxWidthBack</th>\n",
       "      <th>minWidthBack</th>\n",
       "    </tr>\n",
       "  </thead>\n",
       "  <tbody>\n",
       "    <tr>\n",
       "      <th>count</th>\n",
       "      <td>80.000000</td>\n",
       "      <td>80.00000</td>\n",
       "      <td>80.00000</td>\n",
       "      <td>80.000000</td>\n",
       "      <td>80.000000</td>\n",
       "      <td>80.00000</td>\n",
       "      <td>80.000000</td>\n",
       "      <td>80.000000</td>\n",
       "      <td>80.000000</td>\n",
       "      <td>80.000000</td>\n",
       "    </tr>\n",
       "    <tr>\n",
       "      <th>mean</th>\n",
       "      <td>80.750000</td>\n",
       "      <td>18.72875</td>\n",
       "      <td>15.65375</td>\n",
       "      <td>6.654375</td>\n",
       "      <td>15.777500</td>\n",
       "      <td>12.81000</td>\n",
       "      <td>15.565000</td>\n",
       "      <td>13.026250</td>\n",
       "      <td>13.521250</td>\n",
       "      <td>11.948750</td>\n",
       "    </tr>\n",
       "    <tr>\n",
       "      <th>std</th>\n",
       "      <td>44.551841</td>\n",
       "      <td>4.88724</td>\n",
       "      <td>3.50392</td>\n",
       "      <td>0.960129</td>\n",
       "      <td>1.469864</td>\n",
       "      <td>1.04864</td>\n",
       "      <td>0.922311</td>\n",
       "      <td>0.948783</td>\n",
       "      <td>0.864591</td>\n",
       "      <td>0.889601</td>\n",
       "    </tr>\n",
       "    <tr>\n",
       "      <th>min</th>\n",
       "      <td>9.990000</td>\n",
       "      <td>11.50000</td>\n",
       "      <td>9.50000</td>\n",
       "      <td>4.500000</td>\n",
       "      <td>12.000000</td>\n",
       "      <td>11.00000</td>\n",
       "      <td>13.000000</td>\n",
       "      <td>10.500000</td>\n",
       "      <td>11.500000</td>\n",
       "      <td>9.500000</td>\n",
       "    </tr>\n",
       "    <tr>\n",
       "      <th>25%</th>\n",
       "      <td>49.950000</td>\n",
       "      <td>14.00000</td>\n",
       "      <td>13.00000</td>\n",
       "      <td>6.000000</td>\n",
       "      <td>14.500000</td>\n",
       "      <td>12.00000</td>\n",
       "      <td>15.000000</td>\n",
       "      <td>12.425000</td>\n",
       "      <td>13.000000</td>\n",
       "      <td>11.500000</td>\n",
       "    </tr>\n",
       "    <tr>\n",
       "      <th>50%</th>\n",
       "      <td>73.975000</td>\n",
       "      <td>20.25000</td>\n",
       "      <td>15.00000</td>\n",
       "      <td>6.500000</td>\n",
       "      <td>16.000000</td>\n",
       "      <td>12.60000</td>\n",
       "      <td>15.500000</td>\n",
       "      <td>13.000000</td>\n",
       "      <td>13.500000</td>\n",
       "      <td>12.000000</td>\n",
       "    </tr>\n",
       "    <tr>\n",
       "      <th>75%</th>\n",
       "      <td>95.712500</td>\n",
       "      <td>22.50000</td>\n",
       "      <td>17.00000</td>\n",
       "      <td>7.000000</td>\n",
       "      <td>17.000000</td>\n",
       "      <td>13.50000</td>\n",
       "      <td>16.050000</td>\n",
       "      <td>13.700000</td>\n",
       "      <td>14.000000</td>\n",
       "      <td>12.500000</td>\n",
       "    </tr>\n",
       "    <tr>\n",
       "      <th>max</th>\n",
       "      <td>249.000000</td>\n",
       "      <td>28.00000</td>\n",
       "      <td>25.00000</td>\n",
       "      <td>9.200000</td>\n",
       "      <td>19.000000</td>\n",
       "      <td>16.00000</td>\n",
       "      <td>17.500000</td>\n",
       "      <td>15.000000</td>\n",
       "      <td>15.500000</td>\n",
       "      <td>14.000000</td>\n",
       "    </tr>\n",
       "  </tbody>\n",
       "</table>\n",
       "</div>"
      ],
      "text/plain": [
       "            price  maxHeightFront  minHeightFront  rivetHeightFront  \\\n",
       "count   80.000000        80.00000        80.00000         80.000000   \n",
       "mean    80.750000        18.72875        15.65375          6.654375   \n",
       "std     44.551841         4.88724         3.50392          0.960129   \n",
       "min      9.990000        11.50000         9.50000          4.500000   \n",
       "25%     49.950000        14.00000        13.00000          6.000000   \n",
       "50%     73.975000        20.25000        15.00000          6.500000   \n",
       "75%     95.712500        22.50000        17.00000          7.000000   \n",
       "max    249.000000        28.00000        25.00000          9.200000   \n",
       "\n",
       "       maxWidthFront  minWidthFront  maxHeightBack  minHeightBack  \\\n",
       "count      80.000000       80.00000      80.000000      80.000000   \n",
       "mean       15.777500       12.81000      15.565000      13.026250   \n",
       "std         1.469864        1.04864       0.922311       0.948783   \n",
       "min        12.000000       11.00000      13.000000      10.500000   \n",
       "25%        14.500000       12.00000      15.000000      12.425000   \n",
       "50%        16.000000       12.60000      15.500000      13.000000   \n",
       "75%        17.000000       13.50000      16.050000      13.700000   \n",
       "max        19.000000       16.00000      17.500000      15.000000   \n",
       "\n",
       "       maxWidthBack  minWidthBack  \n",
       "count     80.000000     80.000000  \n",
       "mean      13.521250     11.948750  \n",
       "std        0.864591      0.889601  \n",
       "min       11.500000      9.500000  \n",
       "25%       13.000000     11.500000  \n",
       "50%       13.500000     12.000000  \n",
       "75%       14.000000     12.500000  \n",
       "max       15.500000     14.000000  "
      ]
     },
     "execution_count": 5,
     "metadata": {},
     "output_type": "execute_result"
    }
   ],
   "source": [
    "pockets.describe()"
   ]
  },
  {
   "cell_type": "code",
   "execution_count": 6,
   "metadata": {},
   "outputs": [
    {
     "name": "stdout",
     "output_type": "stream",
     "text": [
      "<class 'pandas.core.frame.DataFrame'>\n",
      "RangeIndex: 80 entries, 0 to 79\n",
      "Data columns (total 16 columns):\n",
      "brand               80 non-null object\n",
      "style               80 non-null object\n",
      "menWomen            80 non-null object\n",
      "name                80 non-null object\n",
      "fabric              80 non-null object\n",
      "price               80 non-null float64\n",
      "maxHeightFront      80 non-null float64\n",
      "minHeightFront      80 non-null float64\n",
      "rivetHeightFront    80 non-null float64\n",
      "maxWidthFront       80 non-null float64\n",
      "minWidthFront       80 non-null float64\n",
      "maxHeightBack       80 non-null float64\n",
      "minHeightBack       80 non-null float64\n",
      "maxWidthBack        80 non-null float64\n",
      "minWidthBack        80 non-null float64\n",
      "cutout              80 non-null bool\n",
      "dtypes: bool(1), float64(10), object(5)\n",
      "memory usage: 9.5+ KB\n"
     ]
    }
   ],
   "source": [
    "pockets.info()"
   ]
  },
  {
   "cell_type": "code",
   "execution_count": 7,
   "metadata": {},
   "outputs": [],
   "source": [
    "#sns.pairplot(pockets)"
   ]
  },
  {
   "cell_type": "code",
   "execution_count": 8,
   "metadata": {},
   "outputs": [],
   "source": [
    "#dfBrandPrice=pockets.groupby('brand').mean()['price']"
   ]
  },
  {
   "cell_type": "code",
   "execution_count": 9,
   "metadata": {},
   "outputs": [
    {
     "data": {
      "image/png": "[encoded data removed]",
      "text/plain": [
       "<Figure size 1800x576 with 1 Axes>"
      ]
     },
     "metadata": {},
     "output_type": "display_data"
    }
   ],
   "source": [
    "plt.figure(figsize=(25,8))\n",
    "\n",
    "sns.barplot('brand','price',data=pockets,hue='menWomen')\n",
    "plt.tight_layout()\n"
   ]
  },
  {
   "cell_type": "code",
   "execution_count": 10,
   "metadata": {},
   "outputs": [
    {
     "data": {
      "image/png": "[encoded data removed]",
      "text/plain": [
       "<Figure size 720x576 with 1 Axes>"
      ]
     },
     "metadata": {},
     "output_type": "display_data"
    }
   ],
   "source": [
    "plt.figure(figsize=(10,8))\n",
    "sns.barplot('style','price',data=pockets,hue='menWomen')\n",
    "plt.tight_layout()\n"
   ]
  },
  {
   "cell_type": "code",
   "execution_count": null,
   "metadata": {},
   "outputs": [],
   "source": []
  },
  {
   "cell_type": "code",
   "execution_count": 11,
   "metadata": {},
   "outputs": [
    {
     "data": {
      "text/plain": [
       "<matplotlib.axes._subplots.AxesSubplot at 0x1a1671ec88>"
      ]
     },
     "execution_count": 11,
     "metadata": {},
     "output_type": "execute_result"
    },
    {
     "data": {
      "image/png": "[encoded data removed]",
      "text/plain": [
       "<Figure size 432x288 with 1 Axes>"
      ]
     },
     "metadata": {},
     "output_type": "display_data"
    }
   ],
   "source": [
    "sns.boxplot(x=\"menWomen\", y=\"maxHeightFront\", data=pockets,palette='rainbow')"
   ]
  },
  {
   "cell_type": "code",
   "execution_count": 12,
   "metadata": {},
   "outputs": [],
   "source": [
    "sizesWomen=pockets[pockets['menWomen']=='women'][['maxHeightFront','minHeightFront','rivetHeightFront',\n",
    "               'maxWidthFront','minWidthFront','maxHeightBack','minHeightBack',\n",
    "               'maxWidthBack','minWidthBack']]"
   ]
  },
  {
   "cell_type": "code",
   "execution_count": 13,
   "metadata": {},
   "outputs": [
    {
     "data": {
      "text/plain": [
       "<matplotlib.axes._subplots.AxesSubplot at 0x1a16aa8f98>"
      ]
     },
     "execution_count": 13,
     "metadata": {},
     "output_type": "execute_result"
    },
    {
     "data": {
      "image/png": "[encoded data removed]",
      "text/plain": [
       "<Figure size 432x288 with 1 Axes>"
      ]
     },
     "metadata": {},
     "output_type": "display_data"
    }
   ],
   "source": [
    "sns.boxplot(data=sizesWomen,palette='rainbow',orient='h')"
   ]
  },
  {
   "cell_type": "code",
   "execution_count": 14,
   "metadata": {},
   "outputs": [],
   "source": [
    "sizesmen=pockets[pockets['menWomen']=='men'][['maxHeightFront','minHeightFront','rivetHeightFront',\n",
    "               'maxWidthFront','minWidthFront','maxHeightBack','minHeightBack',\n",
    "               'maxWidthBack','minWidthBack']]"
   ]
  },
  {
   "cell_type": "code",
   "execution_count": 15,
   "metadata": {},
   "outputs": [
    {
     "data": {
      "text/plain": [
       "<matplotlib.axes._subplots.AxesSubplot at 0x1a16c0de48>"
      ]
     },
     "execution_count": 15,
     "metadata": {},
     "output_type": "execute_result"
    },
    {
     "data": {
      "image/png": "[encoded data removed]",
      "text/plain": [
       "<Figure size 432x288 with 1 Axes>"
      ]
     },
     "metadata": {},
     "output_type": "display_data"
    }
   ],
   "source": [
    "sns.boxplot(data=sizesmen,palette='rainbow',orient='h')"
   ]
  },
  {
   "cell_type": "code",
   "execution_count": 16,
   "metadata": {},
   "outputs": [],
   "source": [
    "gMean=pockets.groupby('menWomen').mean()\n",
    "gMean=gMean.drop(['price','cutout'],axis=1)"
   ]
  },
  {
   "cell_type": "code",
   "execution_count": 17,
   "metadata": {},
   "outputs": [
    {
     "data": {
      "text/plain": [
       "maxHeightFront      23.13000\n",
       "minHeightFront      18.08000\n",
       "rivetHeightFront     7.05625\n",
       "maxWidthFront       16.37000\n",
       "minWidthFront       13.36250\n",
       "maxHeightBack       16.00750\n",
       "minHeightBack       13.47000\n",
       "maxWidthBack        13.70250\n",
       "minWidthBack        12.16000\n",
       "Name: men, dtype: float64"
      ]
     },
     "execution_count": 17,
     "metadata": {},
     "output_type": "execute_result"
    }
   ],
   "source": [
    "rowMen=gMean.iloc[0]\n",
    "rowWomen=gMean.iloc[1]\n",
    "rowMen"
   ]
  },
  {
   "cell_type": "code",
   "execution_count": 18,
   "metadata": {},
   "outputs": [
    {
     "data": {
      "text/plain": [
       "<matplotlib.legend.Legend at 0x1a16d53da0>"
      ]
     },
     "execution_count": 18,
     "metadata": {},
     "output_type": "execute_result"
    },
    {
     "data": {
      "image/png": "[encoded data removed]",
      "text/plain": [
       "<Figure size 1440x576 with 1 Axes>"
      ]
     },
     "metadata": {},
     "output_type": "display_data"
    }
   ],
   "source": [
    "plt.figure(figsize=(20,8))\n",
    "\n",
    "rowMen.plot()\n",
    "rowWomen.plot()\n",
    "plt.xticks(np.arange(9), ('maxHeightFront', 'minHeightFront', 'rivetHeightFront', 'maxWidthFront',\n",
    "                          'minWidthFront','maxHeightBack','minHeightBack','maxWidthBack','dminWidthBack'))\n",
    "plt.legend()"
   ]
  },
  {
   "cell_type": "code",
   "execution_count": null,
   "metadata": {
    "scrolled": true
   },
   "outputs": [],
   "source": []
  },
  {
   "cell_type": "code",
   "execution_count": 24,
   "metadata": {},
   "outputs": [
    {
     "data": {
      "image/png": "[encoded data removed]",
      "text/plain": [
       "<Figure size 1800x576 with 1 Axes>"
      ]
     },
     "metadata": {},
     "output_type": "display_data"
    }
   ],
   "source": [
    "plt.figure(figsize=(25,8))\n",
    "\n",
    "sns.barplot('brand','maxHeightFront',data=pockets,hue='menWomen')\n",
    "plt.tight_layout()\n"
   ]
  },
  {
   "cell_type": "code",
   "execution_count": 51,
   "metadata": {},
   "outputs": [],
   "source": [
    "women=pd.get_dummies(pockets['menWomen'],drop_first=True)\n"
   ]
  },
  {
   "cell_type": "code",
   "execution_count": 52,
   "metadata": {},
   "outputs": [],
   "source": [
    "Style=pd.get_dummies(pockets['style'],drop_first=True)\n"
   ]
  },
  {
   "cell_type": "code",
   "execution_count": 54,
   "metadata": {},
   "outputs": [],
   "source": [
    "pockets.drop(['menWomen','style','brand','name','fabric','cutout'],axis=1,inplace=True)"
   ]
  },
  {
   "cell_type": "code",
   "execution_count": 57,
   "metadata": {},
   "outputs": [],
   "source": [
    "pockets = pd.concat([pockets,women,Style],axis=1)"
   ]
  },
  {
   "cell_type": "code",
   "execution_count": 58,
   "metadata": {},
   "outputs": [
    {
     "data": {
      "text/html": [
       "<div>\n",
       "<style scoped>\n",
       "    .dataframe tbody tr th:only-of-type {\n",
       "        vertical-align: middle;\n",
       "    }\n",
       "\n",
       "    .dataframe tbody tr th {\n",
       "        vertical-align: top;\n",
       "    }\n",
       "\n",
       "    .dataframe thead th {\n",
       "        text-align: right;\n",
       "    }\n",
       "</style>\n",
       "<table border=\"1\" class=\"dataframe\">\n",
       "  <thead>\n",
       "    <tr style=\"text-align: right;\">\n",
       "      <th></th>\n",
       "      <th>price</th>\n",
       "      <th>maxHeightFront</th>\n",
       "      <th>minHeightFront</th>\n",
       "      <th>rivetHeightFront</th>\n",
       "      <th>maxWidthFront</th>\n",
       "      <th>minWidthFront</th>\n",
       "      <th>maxHeightBack</th>\n",
       "      <th>minHeightBack</th>\n",
       "      <th>maxWidthBack</th>\n",
       "      <th>minWidthBack</th>\n",
       "      <th>women</th>\n",
       "      <th>regular</th>\n",
       "      <th>skinny</th>\n",
       "      <th>slim</th>\n",
       "      <th>straight</th>\n",
       "    </tr>\n",
       "  </thead>\n",
       "  <tbody>\n",
       "    <tr>\n",
       "      <th>0</th>\n",
       "      <td>42.0</td>\n",
       "      <td>14.5</td>\n",
       "      <td>15.0</td>\n",
       "      <td>6.5</td>\n",
       "      <td>16.5</td>\n",
       "      <td>13.0</td>\n",
       "      <td>15.0</td>\n",
       "      <td>12.2</td>\n",
       "      <td>13.7</td>\n",
       "      <td>12.0</td>\n",
       "      <td>1</td>\n",
       "      <td>0</td>\n",
       "      <td>1</td>\n",
       "      <td>0</td>\n",
       "      <td>0</td>\n",
       "    </tr>\n",
       "    <tr>\n",
       "      <th>1</th>\n",
       "      <td>42.0</td>\n",
       "      <td>14.5</td>\n",
       "      <td>14.0</td>\n",
       "      <td>6.5</td>\n",
       "      <td>16.0</td>\n",
       "      <td>12.5</td>\n",
       "      <td>15.5</td>\n",
       "      <td>12.2</td>\n",
       "      <td>13.0</td>\n",
       "      <td>11.2</td>\n",
       "      <td>1</td>\n",
       "      <td>0</td>\n",
       "      <td>0</td>\n",
       "      <td>0</td>\n",
       "      <td>1</td>\n",
       "    </tr>\n",
       "    <tr>\n",
       "      <th>2</th>\n",
       "      <td>89.5</td>\n",
       "      <td>13.0</td>\n",
       "      <td>13.5</td>\n",
       "      <td>6.5</td>\n",
       "      <td>14.5</td>\n",
       "      <td>12.0</td>\n",
       "      <td>15.5</td>\n",
       "      <td>13.0</td>\n",
       "      <td>13.5</td>\n",
       "      <td>12.5</td>\n",
       "      <td>1</td>\n",
       "      <td>0</td>\n",
       "      <td>1</td>\n",
       "      <td>0</td>\n",
       "      <td>0</td>\n",
       "    </tr>\n",
       "    <tr>\n",
       "      <th>3</th>\n",
       "      <td>89.5</td>\n",
       "      <td>13.0</td>\n",
       "      <td>13.5</td>\n",
       "      <td>6.5</td>\n",
       "      <td>14.5</td>\n",
       "      <td>12.0</td>\n",
       "      <td>14.5</td>\n",
       "      <td>13.0</td>\n",
       "      <td>13.0</td>\n",
       "      <td>12.2</td>\n",
       "      <td>1</td>\n",
       "      <td>0</td>\n",
       "      <td>0</td>\n",
       "      <td>0</td>\n",
       "      <td>1</td>\n",
       "    </tr>\n",
       "    <tr>\n",
       "      <th>4</th>\n",
       "      <td>39.9</td>\n",
       "      <td>13.0</td>\n",
       "      <td>13.0</td>\n",
       "      <td>5.5</td>\n",
       "      <td>14.0</td>\n",
       "      <td>11.5</td>\n",
       "      <td>14.0</td>\n",
       "      <td>12.0</td>\n",
       "      <td>14.2</td>\n",
       "      <td>11.7</td>\n",
       "      <td>1</td>\n",
       "      <td>0</td>\n",
       "      <td>1</td>\n",
       "      <td>0</td>\n",
       "      <td>0</td>\n",
       "    </tr>\n",
       "  </tbody>\n",
       "</table>\n",
       "</div>"
      ],
      "text/plain": [
       "   price  maxHeightFront  minHeightFront  rivetHeightFront  maxWidthFront  \\\n",
       "0   42.0            14.5            15.0               6.5           16.5   \n",
       "1   42.0            14.5            14.0               6.5           16.0   \n",
       "2   89.5            13.0            13.5               6.5           14.5   \n",
       "3   89.5            13.0            13.5               6.5           14.5   \n",
       "4   39.9            13.0            13.0               5.5           14.0   \n",
       "\n",
       "   minWidthFront  maxHeightBack  minHeightBack  maxWidthBack  minWidthBack  \\\n",
       "0           13.0           15.0           12.2          13.7          12.0   \n",
       "1           12.5           15.5           12.2          13.0          11.2   \n",
       "2           12.0           15.5           13.0          13.5          12.5   \n",
       "3           12.0           14.5           13.0          13.0          12.2   \n",
       "4           11.5           14.0           12.0          14.2          11.7   \n",
       "\n",
       "   women  regular  skinny  slim  straight  \n",
       "0      1        0       1     0         0  \n",
       "1      1        0       0     0         1  \n",
       "2      1        0       1     0         0  \n",
       "3      1        0       0     0         1  \n",
       "4      1        0       1     0         0  "
      ]
     },
     "execution_count": 58,
     "metadata": {},
     "output_type": "execute_result"
    }
   ],
   "source": [
    "pockets.head()"
   ]
  },
  {
   "cell_type": "code",
   "execution_count": 59,
   "metadata": {},
   "outputs": [],
   "source": [
    "from sklearn.model_selection import train_test_split"
   ]
  },
  {
   "cell_type": "code",
   "execution_count": 61,
   "metadata": {},
   "outputs": [],
   "source": [
    "X_train, X_test, y_train, y_test = train_test_split(pockets.drop('women',axis=1), \n",
    "                                                    pockets['women'], test_size=0.30, \n",
    "                                                    random_state=101)"
   ]
  },
  {
   "cell_type": "code",
   "execution_count": 66,
   "metadata": {},
   "outputs": [],
   "source": [
    "from sklearn.linear_model import LogisticRegression"
   ]
  },
  {
   "cell_type": "code",
   "execution_count": 67,
   "metadata": {},
   "outputs": [
    {
     "data": {
      "text/plain": [
       "LogisticRegression(C=1.0, class_weight=None, dual=False, fit_intercept=True,\n",
       "          intercept_scaling=1, max_iter=100, multi_class='ovr', n_jobs=1,\n",
       "          penalty='l2', random_state=None, solver='liblinear', tol=0.0001,\n",
       "          verbose=0, warm_start=False)"
      ]
     },
     "execution_count": 67,
     "metadata": {},
     "output_type": "execute_result"
    }
   ],
   "source": [
    "logmodel = LogisticRegression()\n",
    "logmodel.fit(X_train,y_train)"
   ]
  },
  {
   "cell_type": "code",
   "execution_count": 68,
   "metadata": {},
   "outputs": [],
   "source": [
    "predictions = logmodel.predict(X_test)"
   ]
  },
  {
   "cell_type": "code",
   "execution_count": 69,
   "metadata": {},
   "outputs": [],
   "source": [
    "from sklearn.metrics import classification_report"
   ]
  },
  {
   "cell_type": "code",
   "execution_count": 70,
   "metadata": {},
   "outputs": [
    {
     "name": "stdout",
     "output_type": "stream",
     "text": [
      "             precision    recall  f1-score   support\n",
      "\n",
      "          0       0.82      1.00      0.90         9\n",
      "          1       1.00      0.87      0.93        15\n",
      "\n",
      "avg / total       0.93      0.92      0.92        24\n",
      "\n"
     ]
    }
   ],
   "source": [
    "print(classification_report(y_test,predictions))"
   ]
  },
  {
   "cell_type": "code",
   "execution_count": null,
   "metadata": {},
   "outputs": [],
   "source": []
  }
 ],
 "metadata": {
  "kernelspec": {
   "display_name": "Python 3",
   "language": "python",
   "name": "python3"
  },
  "language_info": {
   "codemirror_mode": {
    "name": "ipython",
    "version": 3
   },
   "file_extension": ".py",
   "mimetype": "text/x-python",
   "name": "python",
   "nbconvert_exporter": "python",
   "pygments_lexer": "ipython3",
   "version": "3.6.5"
  }
 },
 "nbformat": 4,
 "nbformat_minor": 2
}
